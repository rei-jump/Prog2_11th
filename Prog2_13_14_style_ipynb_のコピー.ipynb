{
  "nbformat": 4,
  "nbformat_minor": 0,
  "metadata": {
    "colab": {
      "name": "Prog2_13-14_style.ipynb のコピー",
      "provenance": [],
      "collapsed_sections": [],
      "include_colab_link": true
    },
    "kernelspec": {
      "name": "python3",
      "display_name": "Python 3"
    },
    "language_info": {
      "name": "python"
    }
  },
  "cells": [
    {
      "cell_type": "markdown",
      "metadata": {
        "id": "view-in-github",
        "colab_type": "text"
      },
      "source": [
        "<a href=\"https://colab.research.google.com/github/rei-jump/Prog2_11th/blob/main/Prog2_13_14_style_ipynb_%E3%81%AE%E3%82%B3%E3%83%94%E3%83%BC.ipynb\" target=\"_parent\"><img src=\"https://colab.research.google.com/assets/colab-badge.svg\" alt=\"Open In Colab\"/></a>"
      ]
    },
    {
      "cell_type": "markdown",
      "source": [
        "# 使い方\n",
        "第13回，第14回授業用のひな形です．ドライブにコピーをして保存後，ファイル名を変更して使用してください．必要に応じて，コードやコメントのセルを追加して使用してください．\n",
        "\n",
        "この使い方のテキストのセルや各セルのコメントは削除して，使用してください．"
      ],
      "metadata": {
        "id": "rJhDTipMPFGh"
      }
    },
    {
      "cell_type": "markdown",
      "source": [
        "# はじめに\n",
        "\n",
        "ここに自分のグループ番号と学籍番号，氏名，同じグループの学生の学籍番号と氏名を記入してください．"
      ],
      "metadata": {
        "id": "cwIfC0QZQEZa"
      }
    },
    {
      "cell_type": "markdown",
      "source": [
        "# 問題1（初級）\n",
        "y = 3x+10 と直行する y = -1/3x+10/3を描画するプログラムを作成せよ。\n",
        "xの範囲は-5から5までとする\n",
        "ここに問題を記入する\n",
        "\n",
        "* 問題提案者の氏名を問題末尾に記入して下さい．複数人で作成した場合は連名で構いません．"
      ],
      "metadata": {
        "id": "vJuD8pFRFZYI"
      }
    },
    {
      "cell_type": "code",
      "execution_count": null,
      "metadata": {
        "id": "OwHmC1mnFRKN"
      },
      "outputs": [],
      "source": [
        "import matplotlib.pyplot as plt\n",
        "import numpy as np\n",
        "\n",
        "x = np.arange(-5,5)\n",
        "y = 3*x + 10\n",
        "y2 = -1/3*x + 10/3\n",
        "\n",
        "plt.plot(x,y)\n",
        "plt.plot(x,y2)\n",
        "plt.axis('equal')\n",
        "plt.grid(color = '0.8')\n",
        "plt.show()\n"
      ]
    },
    {
      "cell_type": "markdown",
      "source": [
        "## 問題1解説\n",
        "解説はここに記入する．\n",
        "\n",
        "* 解説の執筆者の氏名を問題末尾に記入して下さい．複数人で作成した場合は連名で構いません．\n",
        "\n",
        "* 相手グループに問題を渡すときには，このファイルのコピーを作成し，解答例や解説を削除した上で，取得したリンクを共有する．"
      ],
      "metadata": {
        "id": "kal4elnlL_qX"
      }
    },
    {
      "cell_type": "markdown",
      "source": [
        "---\n",
        "# 問題2（中級）\n",
        "\n",
        "2次関数 y=x^2-6x+10(-10≦x≦10)のグラフを書き、ｙの最小値を求めよ.\n",
        "\n",
        "髙松鈴奈\n"
      ],
      "metadata": {
        "id": "Emsxxb6mFxPK"
      }
    },
    {
      "cell_type": "code",
      "source": [
        "import matplotlib.pyplot as plt\n",
        "import numpy as np\n",
        "\n",
        "x = np.arange(-10, 10, 0.1)\n",
        "\n",
        "y = x**2 + 6*x + 10\n",
        "\n",
        "plt.plot(x, y)\n",
        "plt.show()\n",
        "\n",
        "print(np.min(y))"
      ],
      "metadata": {
        "id": "CRXOJbsYFyUX",
        "colab": {
          "base_uri": "https://localhost:8080/",
          "height": 285
        },
        "outputId": "db9e6a69-fb45-438f-8cef-80af31688f94"
      },
      "execution_count": null,
      "outputs": [
        {
          "output_type": "display_data",
          "data": {
            "image/png": "[encoded data removed]",
            "text/plain": [
              "<Figure size 432x288 with 1 Axes>"
            ]
          },
          "metadata": {
            "needs_background": "light"
          }
        },
        {
          "output_type": "stream",
          "name": "stdout",
          "text": [
            "1.0\n"
          ]
        }
      ]
    },
    {
      "cell_type": "markdown",
      "source": [
        "## 問題2解説\n",
        "\n",
        "第3回を推奨してください"
      ],
      "metadata": {
        "id": "KiOvfBs2MfOW"
      }
    },
    {
      "cell_type": "markdown",
      "source": [
        "---\n",
        "# 問題3（上級）\n",
        "\n",
        "\n",
        "\n",
        "* 問題提案者の氏名を問題末尾に記入して下さい．複数人で作成した場合は連名で構いません．"
      ],
      "metadata": {
        "id": "YbyVRA8RFxcM"
      }
    },
    {
      "cell_type": "code",
      "source": [
        "!wget --no-check-certificate \\\n",
        "https://m.media-amazon.com/images/I/51KtusEs33L._AC_SX450_.jpg"
      ],
      "metadata": {
        "colab": {
          "base_uri": "https://localhost:8080/"
        },
        "id": "5retyfutk8Yq",
        "outputId": "77e143e0-7954-46ab-a050-09da76383756"
      },
      "execution_count": null,
      "outputs": [
        {
          "output_type": "stream",
          "name": "stdout",
          "text": [
            "--2022-01-13 08:36:17--  https://m.media-amazon.com/images/I/51KtusEs33L._AC_SX450_.jpg\n",
            "Resolving m.media-amazon.com (m.media-amazon.com)... 151.101.1.16, 151.101.65.16, 151.101.129.16, ...\n",
            "Connecting to m.media-amazon.com (m.media-amazon.com)|151.101.1.16|:443... connected.\n",
            "HTTP request sent, awaiting response... 200 OK\n",
            "Length: 4262 (4.2K) [image/jpeg]\n",
            "Saving to: ‘51KtusEs33L._AC_SX450_.jpg.4’\n",
            "\n",
            "\r          51KtusEs3   0%[                    ]       0  --.-KB/s               \r51KtusEs33L._AC_SX4 100%[===================>]   4.16K  --.-KB/s    in 0s      \n",
            "\n",
            "2022-01-13 08:36:17 (41.2 MB/s) - ‘51KtusEs33L._AC_SX450_.jpg.4’ saved [4262/4262]\n",
            "\n"
          ]
        }
      ]
    },
    {
      "cell_type": "code",
      "source": [
        "# ここに解答または解答例を記入する\n",
        "import numpy as np\n",
        "import cv2, sys\n",
        "from google.colab.patches import cv2_imshow\n",
        "\n",
        "im = cv2.imread('51KtusEs33L._AC_SX450_.jpg')\n",
        "if im is None:\n",
        "  sys.exit('Error:No such file or directory.')\n",
        "\n",
        "im_gray = cv2.cvtColor(im, cv2.COLOR_BGR2GRAY)\n",
        "\n",
        "\n",
        "#cv2_imshow(im)\n",
        "circles = cv2.HoughCircles(im_gray, cv2.HOUGH_GRADIENT,\n",
        "                           dp=1, minDist=20, param1=100, param2=60,\n",
        "                           minRadius=0, maxRadius=0)\n",
        "\n",
        "circles = np.uint16(np.around(circles))\n",
        "\n",
        "for circle in circles[0, :]:\n",
        "  cv2.circle(im, (circle[0], circle[1]), circle[2],(0,165,255), 5)\n",
        "\n",
        "\n",
        "cv2_imshow(im)\n"
      ],
      "metadata": {
        "id": "k8lP75XSFzKH",
        "colab": {
          "base_uri": "https://localhost:8080/",
          "height": 300
        },
        "outputId": "8c6ff558-8178-4049-9553-5445ba766577"
      },
      "execution_count": null,
      "outputs": [
        {
          "output_type": "display_data",
          "data": {
            "image/png": "[encoded data removed]",
            "text/plain": [
              "<PIL.Image.Image image mode=RGB size=450x283 at 0x7F1ABB2E4810>"
            ]
          },
          "metadata": {}
        }
      ]
    },
    {
      "cell_type": "markdown",
      "source": [
        "## 問題3解説\n",
        "cv2.circleの使い方を復習する問題。詳しくは第7回スライド参照。\n",
        "\n",
        "* 解説の執筆者の氏名を問題末尾に記入して下さい．複数人で作成した場合は連名で構いません．\n",
        "\n",
        "* 相手グループに問題を渡すときには，このファイルのコピーを作成し，解答例や解説を削除した上で，取得したリンクを共有する．"
      ],
      "metadata": {
        "id": "xTMQ7LZxMmTb"
      }
    },
    {
      "cell_type": "markdown",
      "source": [
        "---\n",
        "# 質問\n",
        "\n",
        "問題1～3を解答して，勉強になった点や身に付いた点などを回答欄に記入すること．"
      ],
      "metadata": {
        "id": "w8gdv8SRorcA"
      }
    },
    {
      "cell_type": "markdown",
      "source": [
        "## 回答欄\n",
        "\n",
        "ここに質問の回答を記入して下さい．"
      ],
      "metadata": {
        "id": "9Zqiw6TNpn3Q"
      }
    },
    {
      "cell_type": "markdown",
      "source": [
        "---\n",
        "# 注意事項　提出について\n",
        "以下の手順で提出すること．\n",
        "\n",
        "* メニューの「ファイル」-「ドライブにコピーを保存」を選択し，自分のGoogleドライブに課題を保存する．\n",
        "* メニューの「ファイル」-「ダウンロード」-「.ipynbファイルをダウンロード」を選択し，提出用ファイル(例えばProg2_13_kadai.ipynb)をダウンロードする．\n",
        "* ファイル名を次のように変更する．\n",
        "1. 相手グループの問題を解答したファイルは，「(学籍番号)-Prog2_13_kadai.ipynb」\n",
        "2. 自分のグループで作成した問題と解説のファイルは「(学籍番号)-Prog2_13_lecture.ipynb」\n",
        "* WebClassの所定の場所で提出する．上記1と2のファイルの提出先が異なるので，注意すること．\n",
        "* 個人で提出する上記1，2以外に，5限開始時にグループの代表者のみが2のファイルを提出する必要があるので，忘れないでください．"
      ],
      "metadata": {
        "id": "HHn948WCNHn3"
      }
    }
  ]
}